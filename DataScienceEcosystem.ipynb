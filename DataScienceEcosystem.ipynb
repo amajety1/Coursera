{
 "cells": [
  {
   "cell_type": "markdown",
   "metadata": {},
   "source": [
    "<center>\n",
    "    <img src=\"https://cf-courses-data.s3.us.cloud-object-storage.appdomain.cloud/IBMDeveloperSkillsNetwork-DS0105EN-SkillsNetwork/labs/Module2/images/SN_web_lightmode.png\" width=\"300\" alt=\"cognitiveclass.ai logo\">\n",
    "</center>\n"
   ]
  },
  {
   "cell_type": "markdown",
   "metadata": {},
   "source": [
    "# Data Science Tools and Ecosystem\n"
   ]
  },
  {
   "cell_type": "markdown",
   "metadata": {},
   "source": [
    "In this notebook, Data Science Tools and Ecosystem are summarized."
   ]
  },
  {
   "cell_type": "markdown",
   "metadata": {},
   "source": [
    "\n",
    "---\n",
    "\n",
    "**Objectives:**\n",
    "\n",
    "- List popular languages for Data Science\n",
    "- Identify commonly used libraries in Data Science\n",
    "- Highlight open-source development environments for data science\n",
    "- Perform basic data manipulation and conversions in Python\n",
    "- Explain the use of markdown cells for documentation in Jupyter Notebooks \n",
    "\n",
    "---\n",
    "\n"
   ]
  },
  {
   "cell_type": "markdown",
   "metadata": {},
   "source": [
    "Some of the popular languages that Data Scientists use are:"
   ]
  },
  {
   "cell_type": "markdown",
   "metadata": {},
   "source": [
    "1. **Python** – Widely used for its readability and extensive libraries (e.g., pandas, numpy, scikit-learn) that support data manipulation, analysis, and machine learning.\n",
    "\n",
    "2. **R** – Popular in statistics and data analysis, with strong visualization packages like ggplot2 and data manipulation tools like dplyr.\n",
    "\n",
    "3. **SQL** – Essential for data retrieval, transformation, and management, especially when working with relational databases.\n",
    "\n",
    "4. **Julia** – Known for its high performance, Julia is growing in popularity for data science tasks involving large datasets and mathematical computations.\n",
    "\n",
    "5. **SAS** – Often used in industries like healthcare and finance for statistical analysis, though less common outside of enterprise settings."
   ]
  },
  {
   "cell_type": "markdown",
   "metadata": {},
   "source": [
    "Some of the commonly used libraries used by Data Scientists include:\n"
   ]
  },
  {
   "cell_type": "markdown",
   "metadata": {},
   "source": [
    "\n",
    "1. **pandas** – Used for data manipulation and analysis, especially for handling structured data in DataFrames.\n",
    "\n",
    "2. **NumPy** – Provides support for large, multi-dimensional arrays and matrices, along with a collection of mathematical functions.\n",
    "\n",
    "3. **scikit-learn** – A machine learning library offering tools for data mining, data analysis, and model building, with algorithms for classification, regression, and clustering.\n",
    "\n",
    "4. **matplotlib** – A plotting library used for creating static, interactive, and animated visualizations in Python.\n",
    "\n",
    "5. **TensorFlow** – An open-source platform for building and deploying machine learning and deep learning models, widely used for neural networks and large-scale applications."
   ]
  },
  {
   "cell_type": "markdown",
   "metadata": {},
   "source": [
    "Data Science Tools"
   ]
  },
  {
   "cell_type": "markdown",
   "metadata": {},
   "source": [
    "Here are three commonly used open-source development environments in data science:\n",
    "\n",
    "1. **Jupyter Notebook** – An interactive web-based notebook that allows for code execution, visualization, and documentation in one place, widely used for exploratory data analysis and prototyping.\n",
    "\n",
    "2. **RStudio** – An integrated development environment (IDE) for R, offering tools for data manipulation, visualization, and statistical analysis, particularly popular in the R programming community.\n",
    "\n",
    "3. **VS Code (Visual Studio Code)** – A lightweight, highly customizable code editor with extensions for Python, Jupyter Notebooks, and other data science tools, making it versatile for data science projects across multiple languages."
   ]
  },
  {
   "cell_type": "markdown",
   "metadata": {},
   "source": [
    "Below are a few examples of evaluating arithmetic expressions in Python.\n"
   ]
  },
  {
   "cell_type": "code",
   "execution_count": 1,
   "metadata": {},
   "outputs": [
    {
     "data": {
      "text/plain": [
       "17"
      ]
     },
     "execution_count": 1,
     "metadata": {},
     "output_type": "execute_result"
    }
   ],
   "source": [
    "#  This a simple arithmetic expression to mutiply then add integers\n",
    "\n",
    "(3*4) + 5\n"
   ]
  },
  {
   "cell_type": "code",
   "execution_count": 2,
   "metadata": {},
   "outputs": [
    {
     "data": {
      "text/plain": [
       "3.3333333333333335"
      ]
     },
     "execution_count": 2,
     "metadata": {},
     "output_type": "execute_result"
    }
   ],
   "source": [
    "# This will convert 200 minutes to hours by diving by 60\n",
    "minutes = 200\n",
    "hours = minutes / 60\n",
    "hours"
   ]
  },
  {
   "cell_type": "markdown",
   "metadata": {},
   "source": [
    "## Author: Aniket Majety\n"
   ]
  },
  {
   "cell_type": "code",
   "execution_count": null,
   "metadata": {},
   "outputs": [],
   "source": []
  }
 ],
 "metadata": {
  "kernelspec": {
   "display_name": "Python 3 (ipykernel)",
   "language": "python",
   "name": "python3"
  },
  "language_info": {
   "codemirror_mode": {
    "name": "ipython",
    "version": 3
   },
   "file_extension": ".py",
   "mimetype": "text/x-python",
   "name": "python",
   "nbconvert_exporter": "python",
   "pygments_lexer": "ipython3",
   "version": "3.11.9"
  }
 },
 "nbformat": 4,
 "nbformat_minor": 4
}
